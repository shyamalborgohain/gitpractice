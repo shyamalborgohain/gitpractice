{
 "cells": [
  {
   "cell_type": "markdown",
   "metadata": {},
   "source": [
    "**Classwork**\n",
    "\n",
    "**Dated:  $23^{rd} \\text{ Jan 2025, Thursday}$**"
   ]
  },
  {
   "cell_type": "markdown",
   "metadata": {},
   "source": [
    "**Q.** Find a *10-digit number* where each digit from a to j (representing digits 0 to 9) satisfies the following conditions:\n",
    "\n",
    "* *a* is divisible by 1,\n",
    "\n",
    "* *ab* is divisible by 2,\n",
    "\n",
    "* *abc* is divisible by 3,\n",
    "\n",
    "and so on, until *abcdefghiji* divisible by 10. The digits must be unique, with no repetition."
   ]
  },
  {
   "cell_type": "code",
   "execution_count": 1,
   "metadata": {},
   "outputs": [
    {
     "name": "stdout",
     "output_type": "stream",
     "text": [
      "3816547290\n"
     ]
    }
   ],
   "source": [
    "from itertools import permutations\n",
    "\n",
    "for x in permutations(\"0123456789\"):\n",
    "    number = ''.join(x)\n",
    "    valid = True\n",
    "    \n",
    "    for i in range(1, 11):\n",
    "        if int(number[:i]) % i != 0:\n",
    "            valid = False\n",
    "            break\n",
    "        \n",
    "    if valid:\n",
    "        print(number)\n",
    "        break\n",
    "else:\n",
    "    print(\"No such number exists\")"
   ]
  },
  {
   "cell_type": "markdown",
   "metadata": {},
   "source": [
    "*This is the **END** of the page.*"
   ]
  }
 ],
 "metadata": {
  "kernelspec": {
   "display_name": "Python 3",
   "language": "python",
   "name": "python3"
  },
  "language_info": {
   "codemirror_mode": {
    "name": "ipython",
    "version": 3
   },
   "file_extension": ".py",
   "mimetype": "text/x-python",
   "name": "python",
   "nbconvert_exporter": "python",
   "pygments_lexer": "ipython3",
   "version": "3.10.12"
  }
 },
 "nbformat": 4,
 "nbformat_minor": 2
}
